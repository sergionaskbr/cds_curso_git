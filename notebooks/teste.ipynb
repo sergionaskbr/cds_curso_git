{
 "cells": [
  {
   "cell_type": "code",
   "execution_count": 4,
   "metadata": {},
   "outputs": [
    {
     "name": "stdout",
     "output_type": "stream",
     "text": [
      "main - linha 1\n"
     ]
    }
   ],
   "source": [
    "print('main - linha 1')"
   ]
  },
  {
   "cell_type": "code",
   "execution_count": 5,
   "metadata": {},
   "outputs": [
    {
     "name": "stdout",
     "output_type": "stream",
     "text": [
      "dev - celula 2\n"
     ]
    }
   ],
   "source": [
    "print('dev - celula 2')"
   ]
  },
  {
   "cell_type": "code",
   "execution_count": 6,
   "metadata": {},
   "outputs": [
    {
     "name": "stdout",
     "output_type": "stream",
     "text": [
      "dev - celula 3\n"
     ]
    }
   ],
   "source": [
    "print('dev - celula 3')"
   ]
  }
 ],
 "metadata": {
  "kernelspec": {
   "display_name": "curso_git",
   "language": "python",
   "name": "python3"
  },
  "language_info": {
   "name": "python",
   "version": "3.12.1"
  }
 },
 "nbformat": 4,
 "nbformat_minor": 2
}
